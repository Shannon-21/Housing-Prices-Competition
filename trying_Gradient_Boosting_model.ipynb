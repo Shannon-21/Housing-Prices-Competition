{
 "cells": [
  {
   "cell_type": "markdown",
   "id": "10da4847",
   "metadata": {
    "papermill": {
     "duration": 0.005928,
     "end_time": "2023-02-10T00:08:27.620698",
     "exception": false,
     "start_time": "2023-02-10T00:08:27.614770",
     "status": "completed"
    },
    "tags": []
   },
   "source": [
    "# Housing Prices Competition for Kaggle Learners\n",
    "### Practice Notebook to submit\n",
    "\n",
    "The competition is about predict the SalesPrices of Houses in the X_test dataset with a machine learning model with low Mean Squared Error as possible."
   ]
  },
  {
   "attachments": {
    "38a9c59b-c2b5-44f0-b7b6-dba3fd1db275.png": {
     "image/png": "[encoded data removed]"
    }
   },
   "cell_type": "markdown",
   "id": "d7f67f61",
   "metadata": {
    "papermill": {
     "duration": 0.004472,
     "end_time": "2023-02-10T00:08:27.630295",
     "exception": false,
     "start_time": "2023-02-10T00:08:27.625823",
     "status": "completed"
    },
    "tags": []
   },
   "source": [
    "Ensure that the dataset is loaded to the notebook, adding data in the right tag. Search by \"Housing Prices...\" in the competition datasets, and load it.\n",
    "\n",
    "<div>\n",
    "<img src=\"attachment:38a9c59b-c2b5-44f0-b7b6-dba3fd1db275.png\" width=\"30%\"/>\n",
    "</div>\n"
   ]
  },
  {
   "cell_type": "markdown",
   "id": "c790e2f3",
   "metadata": {
    "papermill": {
     "duration": 0.003732,
     "end_time": "2023-02-10T00:08:27.638501",
     "exception": false,
     "start_time": "2023-02-10T00:08:27.634769",
     "status": "completed"
    },
    "tags": []
   },
   "source": [
    "### Modules\n",
    "Import the needed libraries for the model"
   ]
  },
  {
   "cell_type": "code",
   "execution_count": 1,
   "id": "6c89c9d7",
   "metadata": {
    "execution": {
     "iopub.execute_input": "2023-02-10T00:08:27.649089Z",
     "iopub.status.busy": "2023-02-10T00:08:27.648280Z",
     "iopub.status.idle": "2023-02-10T00:08:29.095381Z",
     "shell.execute_reply": "2023-02-10T00:08:29.094096Z"
    },
    "papermill": {
     "duration": 1.455689,
     "end_time": "2023-02-10T00:08:29.098227",
     "exception": false,
     "start_time": "2023-02-10T00:08:27.642538",
     "status": "completed"
    },
    "tags": []
   },
   "outputs": [],
   "source": [
    "import pandas as pd\n",
    "from sklearn.model_selection import train_test_split\n",
    "from sklearn.metrics import mean_absolute_error\n",
    "from xgboost import XGBRegressor"
   ]
  },
  {
   "cell_type": "markdown",
   "id": "bb977ed7",
   "metadata": {
    "papermill": {
     "duration": 0.003905,
     "end_time": "2023-02-10T00:08:29.106490",
     "exception": false,
     "start_time": "2023-02-10T00:08:29.102585",
     "status": "completed"
    },
    "tags": []
   },
   "source": [
    "### Preprocess the data\n",
    "Handling data and spliting the dataset"
   ]
  },
  {
   "cell_type": "code",
   "execution_count": 2,
   "id": "b70aeabb",
   "metadata": {
    "execution": {
     "iopub.execute_input": "2023-02-10T00:08:29.117017Z",
     "iopub.status.busy": "2023-02-10T00:08:29.116613Z",
     "iopub.status.idle": "2023-02-10T00:08:29.366646Z",
     "shell.execute_reply": "2023-02-10T00:08:29.365702Z"
    },
    "papermill": {
     "duration": 0.258668,
     "end_time": "2023-02-10T00:08:29.369371",
     "exception": false,
     "start_time": "2023-02-10T00:08:29.110703",
     "status": "completed"
    },
    "tags": []
   },
   "outputs": [],
   "source": [
    "# Read the data\n",
    "X_full = pd.read_csv('/kaggle/input/house-prices-advanced-regression-techniques/train.csv', index_col='Id')\n",
    "X_test_full = pd.read_csv('/kaggle/input/house-prices-advanced-regression-techniques/test.csv', index_col='Id')\n",
    "\n",
    "# Remove rows with missing target, separate target from predictors\n",
    "X_full.dropna(axis=0, subset=['SalePrice'], inplace=True)\n",
    "y = X_full.SalePrice\n",
    "X_full.drop(['SalePrice'], axis=1, inplace=True)\n",
    "\n",
    "# Break off validation set from training data\n",
    "X_train_full, X_valid_full, y_train, y_valid = train_test_split(X_full, y,\n",
    "                                                                train_size=0.85, test_size=0.15,\n",
    "                                                                random_state=1)\n",
    "\n",
    "# Select categorical columns with relatively low cardinality\n",
    "categorical_cols = [cname for cname in X_train_full.columns if\n",
    "                    X_train_full[cname].nunique() < 10 and \n",
    "                    X_train_full[cname].dtype == \"object\"]\n",
    "\n",
    "# Select numerical columns\n",
    "numerical_cols = [cname for cname in X_train_full.columns if \n",
    "                X_train_full[cname].dtype in ['int64', 'float64']]\n",
    "\n",
    "# Keep selected columns only\n",
    "my_cols = categorical_cols + numerical_cols\n",
    "X_train = X_train_full[my_cols].copy()\n",
    "X_valid = X_valid_full[my_cols].copy()\n",
    "X_test = X_test_full[my_cols].copy()\n",
    "\n",
    "# One-hot encode the data\n",
    "X_train = pd.get_dummies(X_train)\n",
    "X_valid = pd.get_dummies(X_valid)\n",
    "X_test = pd.get_dummies(X_test)\n",
    "X_train, X_valid = X_train.align(X_valid, join='left', axis=1)\n",
    "X_train, X_test = X_train.align(X_test, join='left', axis=1)"
   ]
  },
  {
   "cell_type": "markdown",
   "id": "ce7e96ba",
   "metadata": {
    "papermill": {
     "duration": 0.003973,
     "end_time": "2023-02-10T00:08:29.378025",
     "exception": false,
     "start_time": "2023-02-10T00:08:29.374052",
     "status": "completed"
    },
    "tags": []
   },
   "source": [
    "### Visualize the data\n",
    "A view of how thw data is ordered in the data set, seeing the columns and values that are available"
   ]
  },
  {
   "cell_type": "code",
   "execution_count": 3,
   "id": "7e72825a",
   "metadata": {
    "execution": {
     "iopub.execute_input": "2023-02-10T00:08:29.388156Z",
     "iopub.status.busy": "2023-02-10T00:08:29.387371Z",
     "iopub.status.idle": "2023-02-10T00:08:29.418172Z",
     "shell.execute_reply": "2023-02-10T00:08:29.417261Z"
    },
    "papermill": {
     "duration": 0.038493,
     "end_time": "2023-02-10T00:08:29.420623",
     "exception": false,
     "start_time": "2023-02-10T00:08:29.382130",
     "status": "completed"
    },
    "tags": []
   },
   "outputs": [
    {
     "data": {
      "text/html": [
       "<div>\n",
       "<style scoped>\n",
       "    .dataframe tbody tr th:only-of-type {\n",
       "        vertical-align: middle;\n",
       "    }\n",
       "\n",
       "    .dataframe tbody tr th {\n",
       "        vertical-align: top;\n",
       "    }\n",
       "\n",
       "    .dataframe thead th {\n",
       "        text-align: right;\n",
       "    }\n",
       "</style>\n",
       "<table border=\"1\" class=\"dataframe\">\n",
       "  <thead>\n",
       "    <tr style=\"text-align: right;\">\n",
       "      <th></th>\n",
       "      <th>MSSubClass</th>\n",
       "      <th>LotFrontage</th>\n",
       "      <th>LotArea</th>\n",
       "      <th>OverallQual</th>\n",
       "      <th>OverallCond</th>\n",
       "      <th>YearBuilt</th>\n",
       "      <th>YearRemodAdd</th>\n",
       "      <th>MasVnrArea</th>\n",
       "      <th>BsmtFinSF1</th>\n",
       "      <th>BsmtFinSF2</th>\n",
       "      <th>...</th>\n",
       "      <th>SaleType_ConLw</th>\n",
       "      <th>SaleType_New</th>\n",
       "      <th>SaleType_Oth</th>\n",
       "      <th>SaleType_WD</th>\n",
       "      <th>SaleCondition_Abnorml</th>\n",
       "      <th>SaleCondition_AdjLand</th>\n",
       "      <th>SaleCondition_Alloca</th>\n",
       "      <th>SaleCondition_Family</th>\n",
       "      <th>SaleCondition_Normal</th>\n",
       "      <th>SaleCondition_Partial</th>\n",
       "    </tr>\n",
       "    <tr>\n",
       "      <th>Id</th>\n",
       "      <th></th>\n",
       "      <th></th>\n",
       "      <th></th>\n",
       "      <th></th>\n",
       "      <th></th>\n",
       "      <th></th>\n",
       "      <th></th>\n",
       "      <th></th>\n",
       "      <th></th>\n",
       "      <th></th>\n",
       "      <th></th>\n",
       "      <th></th>\n",
       "      <th></th>\n",
       "      <th></th>\n",
       "      <th></th>\n",
       "      <th></th>\n",
       "      <th></th>\n",
       "      <th></th>\n",
       "      <th></th>\n",
       "      <th></th>\n",
       "      <th></th>\n",
       "    </tr>\n",
       "  </thead>\n",
       "  <tbody>\n",
       "    <tr>\n",
       "      <th>76</th>\n",
       "      <td>180</td>\n",
       "      <td>21.0</td>\n",
       "      <td>1596</td>\n",
       "      <td>4</td>\n",
       "      <td>5</td>\n",
       "      <td>1973</td>\n",
       "      <td>1973</td>\n",
       "      <td>0.0</td>\n",
       "      <td>462</td>\n",
       "      <td>0</td>\n",
       "      <td>...</td>\n",
       "      <td>0</td>\n",
       "      <td>0</td>\n",
       "      <td>0</td>\n",
       "      <td>1</td>\n",
       "      <td>0</td>\n",
       "      <td>0</td>\n",
       "      <td>0</td>\n",
       "      <td>0</td>\n",
       "      <td>1</td>\n",
       "      <td>0</td>\n",
       "    </tr>\n",
       "    <tr>\n",
       "      <th>1183</th>\n",
       "      <td>60</td>\n",
       "      <td>160.0</td>\n",
       "      <td>15623</td>\n",
       "      <td>10</td>\n",
       "      <td>5</td>\n",
       "      <td>1996</td>\n",
       "      <td>1996</td>\n",
       "      <td>0.0</td>\n",
       "      <td>2096</td>\n",
       "      <td>0</td>\n",
       "      <td>...</td>\n",
       "      <td>0</td>\n",
       "      <td>0</td>\n",
       "      <td>0</td>\n",
       "      <td>1</td>\n",
       "      <td>1</td>\n",
       "      <td>0</td>\n",
       "      <td>0</td>\n",
       "      <td>0</td>\n",
       "      <td>0</td>\n",
       "      <td>0</td>\n",
       "    </tr>\n",
       "    <tr>\n",
       "      <th>463</th>\n",
       "      <td>20</td>\n",
       "      <td>60.0</td>\n",
       "      <td>8281</td>\n",
       "      <td>5</td>\n",
       "      <td>5</td>\n",
       "      <td>1965</td>\n",
       "      <td>1965</td>\n",
       "      <td>0.0</td>\n",
       "      <td>553</td>\n",
       "      <td>311</td>\n",
       "      <td>...</td>\n",
       "      <td>0</td>\n",
       "      <td>0</td>\n",
       "      <td>0</td>\n",
       "      <td>1</td>\n",
       "      <td>0</td>\n",
       "      <td>0</td>\n",
       "      <td>0</td>\n",
       "      <td>0</td>\n",
       "      <td>1</td>\n",
       "      <td>0</td>\n",
       "    </tr>\n",
       "    <tr>\n",
       "      <th>756</th>\n",
       "      <td>160</td>\n",
       "      <td>34.0</td>\n",
       "      <td>3230</td>\n",
       "      <td>6</td>\n",
       "      <td>5</td>\n",
       "      <td>1999</td>\n",
       "      <td>1999</td>\n",
       "      <td>894.0</td>\n",
       "      <td>381</td>\n",
       "      <td>0</td>\n",
       "      <td>...</td>\n",
       "      <td>0</td>\n",
       "      <td>0</td>\n",
       "      <td>0</td>\n",
       "      <td>1</td>\n",
       "      <td>0</td>\n",
       "      <td>0</td>\n",
       "      <td>0</td>\n",
       "      <td>0</td>\n",
       "      <td>1</td>\n",
       "      <td>0</td>\n",
       "    </tr>\n",
       "    <tr>\n",
       "      <th>1356</th>\n",
       "      <td>80</td>\n",
       "      <td>102.0</td>\n",
       "      <td>10192</td>\n",
       "      <td>7</td>\n",
       "      <td>6</td>\n",
       "      <td>1968</td>\n",
       "      <td>1992</td>\n",
       "      <td>143.0</td>\n",
       "      <td>0</td>\n",
       "      <td>0</td>\n",
       "      <td>...</td>\n",
       "      <td>0</td>\n",
       "      <td>0</td>\n",
       "      <td>0</td>\n",
       "      <td>1</td>\n",
       "      <td>0</td>\n",
       "      <td>0</td>\n",
       "      <td>0</td>\n",
       "      <td>0</td>\n",
       "      <td>1</td>\n",
       "      <td>0</td>\n",
       "    </tr>\n",
       "  </tbody>\n",
       "</table>\n",
       "<p>5 rows × 231 columns</p>\n",
       "</div>"
      ],
      "text/plain": [
       "      MSSubClass  LotFrontage  LotArea  OverallQual  OverallCond  YearBuilt  \\\n",
       "Id                                                                            \n",
       "76           180         21.0     1596            4            5       1973   \n",
       "1183          60        160.0    15623           10            5       1996   \n",
       "463           20         60.0     8281            5            5       1965   \n",
       "756          160         34.0     3230            6            5       1999   \n",
       "1356          80        102.0    10192            7            6       1968   \n",
       "\n",
       "      YearRemodAdd  MasVnrArea  BsmtFinSF1  BsmtFinSF2  ...  SaleType_ConLw  \\\n",
       "Id                                                      ...                   \n",
       "76            1973         0.0         462           0  ...               0   \n",
       "1183          1996         0.0        2096           0  ...               0   \n",
       "463           1965         0.0         553         311  ...               0   \n",
       "756           1999       894.0         381           0  ...               0   \n",
       "1356          1992       143.0           0           0  ...               0   \n",
       "\n",
       "      SaleType_New  SaleType_Oth  SaleType_WD  SaleCondition_Abnorml  \\\n",
       "Id                                                                     \n",
       "76               0             0            1                      0   \n",
       "1183             0             0            1                      1   \n",
       "463              0             0            1                      0   \n",
       "756              0             0            1                      0   \n",
       "1356             0             0            1                      0   \n",
       "\n",
       "      SaleCondition_AdjLand  SaleCondition_Alloca  SaleCondition_Family  \\\n",
       "Id                                                                        \n",
       "76                        0                     0                     0   \n",
       "1183                      0                     0                     0   \n",
       "463                       0                     0                     0   \n",
       "756                       0                     0                     0   \n",
       "1356                      0                     0                     0   \n",
       "\n",
       "      SaleCondition_Normal  SaleCondition_Partial  \n",
       "Id                                                 \n",
       "76                       1                      0  \n",
       "1183                     0                      0  \n",
       "463                      1                      0  \n",
       "756                      1                      0  \n",
       "1356                     1                      0  \n",
       "\n",
       "[5 rows x 231 columns]"
      ]
     },
     "execution_count": 3,
     "metadata": {},
     "output_type": "execute_result"
    }
   ],
   "source": [
    "X_train.head()"
   ]
  },
  {
   "cell_type": "markdown",
   "id": "e5e5a307",
   "metadata": {
    "papermill": {
     "duration": 0.004346,
     "end_time": "2023-02-10T00:08:29.429739",
     "exception": false,
     "start_time": "2023-02-10T00:08:29.425393",
     "status": "completed"
    },
    "tags": []
   },
   "source": [
    "### Perform the score with an Extreme Gradient Boosting model\n",
    "This update use a new model that optimize the loss by gradient descent method"
   ]
  },
  {
   "cell_type": "code",
   "execution_count": 4,
   "id": "7019b110",
   "metadata": {
    "execution": {
     "iopub.execute_input": "2023-02-10T00:08:29.441488Z",
     "iopub.status.busy": "2023-02-10T00:08:29.440860Z",
     "iopub.status.idle": "2023-02-10T00:08:36.802030Z",
     "shell.execute_reply": "2023-02-10T00:08:36.800238Z"
    },
    "papermill": {
     "duration": 7.371298,
     "end_time": "2023-02-10T00:08:36.805527",
     "exception": false,
     "start_time": "2023-02-10T00:08:29.434229",
     "status": "completed"
    },
    "tags": []
   },
   "outputs": [
    {
     "name": "stdout",
     "output_type": "stream",
     "text": [
      "Mean Absolute Error: 13677.075413812785\n"
     ]
    }
   ],
   "source": [
    "# Define the model\n",
    "my_model = XGBRegressor(n_estimators=650, learning_rate=0.02)\n",
    "\n",
    "# Fit the model\n",
    "my_model.fit(X_train, y_train)\n",
    "\n",
    "# Get predictions\n",
    "predictions = my_model.predict(X_valid)\n",
    "\n",
    "# Calculate MAE\n",
    "mae = mean_absolute_error(predictions, y_valid)\n",
    "print(\"Mean Absolute Error:\" , mae)\n",
    "\n",
    "#best record: 13677.07"
   ]
  },
  {
   "cell_type": "markdown",
   "id": "5d52fbac",
   "metadata": {
    "papermill": {
     "duration": 0.005285,
     "end_time": "2023-02-10T00:08:36.816331",
     "exception": false,
     "start_time": "2023-02-10T00:08:36.811046",
     "status": "completed"
    },
    "tags": []
   },
   "source": [
    "### Generate Predictions with the X_test dataset\n",
    "we will generate the columns target with predictions of the model"
   ]
  },
  {
   "cell_type": "code",
   "execution_count": 5,
   "id": "6da93d9e",
   "metadata": {
    "execution": {
     "iopub.execute_input": "2023-02-10T00:08:36.828426Z",
     "iopub.status.busy": "2023-02-10T00:08:36.828033Z",
     "iopub.status.idle": "2023-02-10T00:08:36.870278Z",
     "shell.execute_reply": "2023-02-10T00:08:36.869158Z"
    },
    "papermill": {
     "duration": 0.050926,
     "end_time": "2023-02-10T00:08:36.872953",
     "exception": false,
     "start_time": "2023-02-10T00:08:36.822027",
     "status": "completed"
    },
    "tags": []
   },
   "outputs": [
    {
     "data": {
      "text/plain": [
       "array([121663.61, 155713.7 , 184359.81, ..., 164016.39, 115508.61,\n",
       "       220752.1 ], dtype=float32)"
      ]
     },
     "execution_count": 5,
     "metadata": {},
     "output_type": "execute_result"
    }
   ],
   "source": [
    "preds_test = my_model.predict(X_test)\n",
    "preds_test"
   ]
  },
  {
   "cell_type": "markdown",
   "id": "9c51a80e",
   "metadata": {
    "papermill": {
     "duration": 0.004732,
     "end_time": "2023-02-10T00:08:36.883466",
     "exception": false,
     "start_time": "2023-02-10T00:08:36.878734",
     "status": "completed"
    },
    "tags": []
   },
   "source": [
    "### Output file to submit\n",
    "When I have the lowest score that I can find, we define the model as well and train the final model, and summit the predictions to the competition."
   ]
  },
  {
   "cell_type": "code",
   "execution_count": 6,
   "id": "711ac843",
   "metadata": {
    "execution": {
     "iopub.execute_input": "2023-02-10T00:08:36.894992Z",
     "iopub.status.busy": "2023-02-10T00:08:36.894562Z",
     "iopub.status.idle": "2023-02-10T00:08:36.906400Z",
     "shell.execute_reply": "2023-02-10T00:08:36.905258Z"
    },
    "papermill": {
     "duration": 0.020999,
     "end_time": "2023-02-10T00:08:36.909237",
     "exception": false,
     "start_time": "2023-02-10T00:08:36.888238",
     "status": "completed"
    },
    "tags": []
   },
   "outputs": [],
   "source": [
    "# Save test predictions to file\n",
    "output = pd.DataFrame({'Id': X_test.index,\n",
    "                       'SalePrice': preds_test})\n",
    "output.to_csv('submission.csv', index=False)"
   ]
  }
 ],
 "metadata": {
  "kernelspec": {
   "display_name": "Python 3",
   "language": "python",
   "name": "python3"
  },
  "language_info": {
   "codemirror_mode": {
    "name": "ipython",
    "version": 3
   },
   "file_extension": ".py",
   "mimetype": "text/x-python",
   "name": "python",
   "nbconvert_exporter": "python",
   "pygments_lexer": "ipython3",
   "version": "3.7.12"
  },
  "papermill": {
   "default_parameters": {},
   "duration": 19.408038,
   "end_time": "2023-02-10T00:08:37.736410",
   "environment_variables": {},
   "exception": null,
   "input_path": "__notebook__.ipynb",
   "output_path": "__notebook__.ipynb",
   "parameters": {},
   "start_time": "2023-02-10T00:08:18.328372",
   "version": "2.3.4"
  }
 },
 "nbformat": 4,
 "nbformat_minor": 5
}
